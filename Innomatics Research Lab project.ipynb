{
 "cells": [
  {
   "cell_type": "markdown",
   "id": "e5d21ed9",
   "metadata": {},
   "source": [
    "# Hackathon Project "
   ]
  },
  {
   "cell_type": "markdown",
   "id": "4c8718c8",
   "metadata": {},
   "source": [
    "## Import libraries"
   ]
  },
  {
   "cell_type": "code",
   "execution_count": 1,
   "id": "dc302907",
   "metadata": {},
   "outputs": [],
   "source": [
    "import numpy as np\n",
    "import pandas as pd\n",
    "import matplotlib.pyplot as plt\n",
    "import seaborn as sns\n"
   ]
  },
  {
   "cell_type": "markdown",
   "id": "c3aa6def",
   "metadata": {},
   "source": [
    "## View of Dataset"
   ]
  },
  {
   "cell_type": "code",
   "execution_count": 2,
   "id": "53fba075",
   "metadata": {},
   "outputs": [
    {
     "data": {
      "text/html": [
       "<div>\n",
       "<style scoped>\n",
       "    .dataframe tbody tr th:only-of-type {\n",
       "        vertical-align: middle;\n",
       "    }\n",
       "\n",
       "    .dataframe tbody tr th {\n",
       "        vertical-align: top;\n",
       "    }\n",
       "\n",
       "    .dataframe thead th {\n",
       "        text-align: right;\n",
       "    }\n",
       "</style>\n",
       "<table border=\"1\" class=\"dataframe\">\n",
       "  <thead>\n",
       "    <tr style=\"text-align: right;\">\n",
       "      <th></th>\n",
       "      <th>input</th>\n",
       "      <th>output</th>\n",
       "    </tr>\n",
       "  </thead>\n",
       "  <tbody>\n",
       "    <tr>\n",
       "      <th>0</th>\n",
       "      <td>-122.740667</td>\n",
       "      <td>-130.572085</td>\n",
       "    </tr>\n",
       "    <tr>\n",
       "      <th>1</th>\n",
       "      <td>-121.531419</td>\n",
       "      <td>-129.938929</td>\n",
       "    </tr>\n",
       "    <tr>\n",
       "      <th>2</th>\n",
       "      <td>-134.917019</td>\n",
       "      <td>-130.141832</td>\n",
       "    </tr>\n",
       "    <tr>\n",
       "      <th>3</th>\n",
       "      <td>-120.605951</td>\n",
       "      <td>-125.760932</td>\n",
       "    </tr>\n",
       "    <tr>\n",
       "      <th>4</th>\n",
       "      <td>-129.894781</td>\n",
       "      <td>-112.785214</td>\n",
       "    </tr>\n",
       "    <tr>\n",
       "      <th>...</th>\n",
       "      <td>...</td>\n",
       "      <td>...</td>\n",
       "    </tr>\n",
       "    <tr>\n",
       "      <th>1692</th>\n",
       "      <td>25.410184</td>\n",
       "      <td>-76.380902</td>\n",
       "    </tr>\n",
       "    <tr>\n",
       "      <th>1693</th>\n",
       "      <td>29.537304</td>\n",
       "      <td>-82.796934</td>\n",
       "    </tr>\n",
       "    <tr>\n",
       "      <th>1694</th>\n",
       "      <td>31.633331</td>\n",
       "      <td>-87.000000</td>\n",
       "    </tr>\n",
       "    <tr>\n",
       "      <th>1695</th>\n",
       "      <td>29.091458</td>\n",
       "      <td>-104.943052</td>\n",
       "    </tr>\n",
       "    <tr>\n",
       "      <th>1696</th>\n",
       "      <td>17.145296</td>\n",
       "      <td>-101.726894</td>\n",
       "    </tr>\n",
       "  </tbody>\n",
       "</table>\n",
       "<p>1697 rows × 2 columns</p>\n",
       "</div>"
      ],
      "text/plain": [
       "           input      output\n",
       "0    -122.740667 -130.572085\n",
       "1    -121.531419 -129.938929\n",
       "2    -134.917019 -130.141832\n",
       "3    -120.605951 -125.760932\n",
       "4    -129.894781 -112.785214\n",
       "...          ...         ...\n",
       "1692   25.410184  -76.380902\n",
       "1693   29.537304  -82.796934\n",
       "1694   31.633331  -87.000000\n",
       "1695   29.091458 -104.943052\n",
       "1696   17.145296 -101.726894\n",
       "\n",
       "[1697 rows x 2 columns]"
      ]
     },
     "execution_count": 2,
     "metadata": {},
     "output_type": "execute_result"
    }
   ],
   "source": [
    "df=pd.read_csv('dataframe_.csv')\n",
    "df"
   ]
  },
  {
   "cell_type": "markdown",
   "id": "b58e0f76",
   "metadata": {},
   "source": [
    "## Information about Dataset"
   ]
  },
  {
   "cell_type": "code",
   "execution_count": 3,
   "id": "298073b7",
   "metadata": {},
   "outputs": [
    {
     "data": {
      "text/plain": [
       "(1697, 2)"
      ]
     },
     "execution_count": 3,
     "metadata": {},
     "output_type": "execute_result"
    }
   ],
   "source": [
    "df.shape"
   ]
  },
  {
   "cell_type": "code",
   "execution_count": 4,
   "id": "28719c78",
   "metadata": {},
   "outputs": [
    {
     "name": "stdout",
     "output_type": "stream",
     "text": [
      "<class 'pandas.core.frame.DataFrame'>\n",
      "RangeIndex: 1697 entries, 0 to 1696\n",
      "Data columns (total 2 columns):\n",
      " #   Column  Non-Null Count  Dtype  \n",
      "---  ------  --------------  -----  \n",
      " 0   input   1696 non-null   float64\n",
      " 1   output  1696 non-null   float64\n",
      "dtypes: float64(2)\n",
      "memory usage: 26.6 KB\n"
     ]
    }
   ],
   "source": [
    "df.info()"
   ]
  },
  {
   "cell_type": "markdown",
   "id": "28e8d014",
   "metadata": {},
   "source": [
    "## Relation between input output"
   ]
  },
  {
   "cell_type": "code",
   "execution_count": 5,
   "id": "bf2ed74c",
   "metadata": {},
   "outputs": [
    {
     "data": {
      "text/html": [
       "<div>\n",
       "<style scoped>\n",
       "    .dataframe tbody tr th:only-of-type {\n",
       "        vertical-align: middle;\n",
       "    }\n",
       "\n",
       "    .dataframe tbody tr th {\n",
       "        vertical-align: top;\n",
       "    }\n",
       "\n",
       "    .dataframe thead th {\n",
       "        text-align: right;\n",
       "    }\n",
       "</style>\n",
       "<table border=\"1\" class=\"dataframe\">\n",
       "  <thead>\n",
       "    <tr style=\"text-align: right;\">\n",
       "      <th></th>\n",
       "      <th>input</th>\n",
       "      <th>output</th>\n",
       "    </tr>\n",
       "  </thead>\n",
       "  <tbody>\n",
       "    <tr>\n",
       "      <th>input</th>\n",
       "      <td>1.000000</td>\n",
       "      <td>0.511776</td>\n",
       "    </tr>\n",
       "    <tr>\n",
       "      <th>output</th>\n",
       "      <td>0.511776</td>\n",
       "      <td>1.000000</td>\n",
       "    </tr>\n",
       "  </tbody>\n",
       "</table>\n",
       "</div>"
      ],
      "text/plain": [
       "           input    output\n",
       "input   1.000000  0.511776\n",
       "output  0.511776  1.000000"
      ]
     },
     "execution_count": 5,
     "metadata": {},
     "output_type": "execute_result"
    }
   ],
   "source": [
    "df.corr()"
   ]
  },
  {
   "cell_type": "code",
   "execution_count": 6,
   "id": "ed3b1b58",
   "metadata": {},
   "outputs": [
    {
     "data": {
      "text/plain": [
       "<AxesSubplot:>"
      ]
     },
     "execution_count": 6,
     "metadata": {},
     "output_type": "execute_result"
    },
    {
     "data": {
      "image/png": "[encoded data removed]",
      "text/plain": [
       "<Figure size 432x288 with 2 Axes>"
      ]
     },
     "metadata": {
      "needs_background": "light"
     },
     "output_type": "display_data"
    }
   ],
   "source": [
    "sns.heatmap(df.corr())"
   ]
  },
  {
   "cell_type": "markdown",
   "id": "e9bc6e9b",
   "metadata": {},
   "source": [
    "## checking missing values"
   ]
  },
  {
   "cell_type": "code",
   "execution_count": 7,
   "id": "b15619dc",
   "metadata": {},
   "outputs": [
    {
     "data": {
      "text/plain": [
       "input     1\n",
       "output    1\n",
       "dtype: int64"
      ]
     },
     "execution_count": 7,
     "metadata": {},
     "output_type": "execute_result"
    }
   ],
   "source": [
    "df.isnull().sum()"
   ]
  },
  {
   "cell_type": "code",
   "execution_count": 8,
   "id": "d24fb5e2",
   "metadata": {},
   "outputs": [
    {
     "data": {
      "text/plain": [
       "<AxesSubplot:>"
      ]
     },
     "execution_count": 8,
     "metadata": {},
     "output_type": "execute_result"
    },
    {
     "data": {
      "image/png": "[encoded data removed]",
      "text/plain": [
       "<Figure size 432x288 with 2 Axes>"
      ]
     },
     "metadata": {
      "needs_background": "light"
     },
     "output_type": "display_data"
    }
   ],
   "source": [
    "sns.heatmap(df.isnull())"
   ]
  },
  {
   "cell_type": "markdown",
   "id": "23dc1b37",
   "metadata": {},
   "source": [
    "one value is missing in input as well as one value is missing in output, so we can remove this row from the dataset it will not affect our result."
   ]
  },
  {
   "cell_type": "code",
   "execution_count": 9,
   "id": "f81af3b9",
   "metadata": {},
   "outputs": [],
   "source": [
    "df.dropna(inplace=True)"
   ]
  },
  {
   "cell_type": "code",
   "execution_count": 10,
   "id": "f25ff67e",
   "metadata": {},
   "outputs": [
    {
     "data": {
      "text/plain": [
       "input     0\n",
       "output    0\n",
       "dtype: int64"
      ]
     },
     "execution_count": 10,
     "metadata": {},
     "output_type": "execute_result"
    }
   ],
   "source": [
    "df.isnull().sum()"
   ]
  },
  {
   "cell_type": "markdown",
   "id": "1c221957",
   "metadata": {},
   "source": [
    "Now there is no missing value in our dataset"
   ]
  },
  {
   "cell_type": "markdown",
   "id": "a0f4cf46",
   "metadata": {},
   "source": [
    "## Checking duplicates"
   ]
  },
  {
   "cell_type": "code",
   "execution_count": 11,
   "id": "05635f80",
   "metadata": {},
   "outputs": [
    {
     "data": {
      "text/plain": [
       "606"
      ]
     },
     "execution_count": 11,
     "metadata": {},
     "output_type": "execute_result"
    }
   ],
   "source": [
    "df.duplicated().sum()"
   ]
  },
  {
   "cell_type": "markdown",
   "id": "d21f7402",
   "metadata": {},
   "source": [
    "There are 606 values are duplicates in our data set, so we have to drop these duplicates so algorithm can process the prediction efficiently"
   ]
  },
  {
   "cell_type": "code",
   "execution_count": 12,
   "id": "18a4d1e3",
   "metadata": {},
   "outputs": [],
   "source": [
    "df.drop_duplicates(inplace=True)"
   ]
  },
  {
   "cell_type": "code",
   "execution_count": 13,
   "id": "a78eaa04",
   "metadata": {},
   "outputs": [
    {
     "data": {
      "text/plain": [
       "0"
      ]
     },
     "execution_count": 13,
     "metadata": {},
     "output_type": "execute_result"
    }
   ],
   "source": [
    "df.duplicated().sum()"
   ]
  },
  {
   "cell_type": "markdown",
   "id": "e5378ca2",
   "metadata": {},
   "source": [
    "## Mathematical summary of dataset"
   ]
  },
  {
   "cell_type": "code",
   "execution_count": 14,
   "id": "50bcafb1",
   "metadata": {},
   "outputs": [
    {
     "data": {
      "text/html": [
       "<div>\n",
       "<style scoped>\n",
       "    .dataframe tbody tr th:only-of-type {\n",
       "        vertical-align: middle;\n",
       "    }\n",
       "\n",
       "    .dataframe tbody tr th {\n",
       "        vertical-align: top;\n",
       "    }\n",
       "\n",
       "    .dataframe thead th {\n",
       "        text-align: right;\n",
       "    }\n",
       "</style>\n",
       "<table border=\"1\" class=\"dataframe\">\n",
       "  <thead>\n",
       "    <tr style=\"text-align: right;\">\n",
       "      <th></th>\n",
       "      <th>input</th>\n",
       "      <th>output</th>\n",
       "    </tr>\n",
       "  </thead>\n",
       "  <tbody>\n",
       "    <tr>\n",
       "      <th>count</th>\n",
       "      <td>1090.000000</td>\n",
       "      <td>1090.000000</td>\n",
       "    </tr>\n",
       "    <tr>\n",
       "      <th>mean</th>\n",
       "      <td>8.116185</td>\n",
       "      <td>-27.383628</td>\n",
       "    </tr>\n",
       "    <tr>\n",
       "      <th>std</th>\n",
       "      <td>78.769201</td>\n",
       "      <td>68.371895</td>\n",
       "    </tr>\n",
       "    <tr>\n",
       "      <th>min</th>\n",
       "      <td>-134.962839</td>\n",
       "      <td>-132.422167</td>\n",
       "    </tr>\n",
       "    <tr>\n",
       "      <th>25%</th>\n",
       "      <td>-51.041357</td>\n",
       "      <td>-76.994298</td>\n",
       "    </tr>\n",
       "    <tr>\n",
       "      <th>50%</th>\n",
       "      <td>17.462087</td>\n",
       "      <td>-46.300938</td>\n",
       "    </tr>\n",
       "    <tr>\n",
       "      <th>75%</th>\n",
       "      <td>76.481078</td>\n",
       "      <td>5.113101</td>\n",
       "    </tr>\n",
       "    <tr>\n",
       "      <th>max</th>\n",
       "      <td>134.605775</td>\n",
       "      <td>134.425495</td>\n",
       "    </tr>\n",
       "  </tbody>\n",
       "</table>\n",
       "</div>"
      ],
      "text/plain": [
       "             input       output\n",
       "count  1090.000000  1090.000000\n",
       "mean      8.116185   -27.383628\n",
       "std      78.769201    68.371895\n",
       "min    -134.962839  -132.422167\n",
       "25%     -51.041357   -76.994298\n",
       "50%      17.462087   -46.300938\n",
       "75%      76.481078     5.113101\n",
       "max     134.605775   134.425495"
      ]
     },
     "execution_count": 14,
     "metadata": {},
     "output_type": "execute_result"
    }
   ],
   "source": [
    "df.describe()"
   ]
  },
  {
   "cell_type": "code",
   "execution_count": 15,
   "id": "ad0ff0f5",
   "metadata": {},
   "outputs": [
    {
     "data": {
      "text/html": [
       "<div>\n",
       "<style scoped>\n",
       "    .dataframe tbody tr th:only-of-type {\n",
       "        vertical-align: middle;\n",
       "    }\n",
       "\n",
       "    .dataframe tbody tr th {\n",
       "        vertical-align: top;\n",
       "    }\n",
       "\n",
       "    .dataframe thead th {\n",
       "        text-align: right;\n",
       "    }\n",
       "</style>\n",
       "<table border=\"1\" class=\"dataframe\">\n",
       "  <thead>\n",
       "    <tr style=\"text-align: right;\">\n",
       "      <th></th>\n",
       "      <th>input</th>\n",
       "      <th>output</th>\n",
       "    </tr>\n",
       "  </thead>\n",
       "  <tbody>\n",
       "    <tr>\n",
       "      <th>1110</th>\n",
       "      <td>-110.344221</td>\n",
       "      <td>123.087950</td>\n",
       "    </tr>\n",
       "    <tr>\n",
       "      <th>791</th>\n",
       "      <td>-104.366669</td>\n",
       "      <td>-46.000000</td>\n",
       "    </tr>\n",
       "    <tr>\n",
       "      <th>342</th>\n",
       "      <td>114.633331</td>\n",
       "      <td>94.000000</td>\n",
       "    </tr>\n",
       "    <tr>\n",
       "      <th>141</th>\n",
       "      <td>-51.608942</td>\n",
       "      <td>-33.186863</td>\n",
       "    </tr>\n",
       "    <tr>\n",
       "      <th>229</th>\n",
       "      <td>3.309414</td>\n",
       "      <td>-85.163601</td>\n",
       "    </tr>\n",
       "    <tr>\n",
       "      <th>237</th>\n",
       "      <td>29.671494</td>\n",
       "      <td>-73.487912</td>\n",
       "    </tr>\n",
       "    <tr>\n",
       "      <th>624</th>\n",
       "      <td>11.440266</td>\n",
       "      <td>-93.358732</td>\n",
       "    </tr>\n",
       "    <tr>\n",
       "      <th>143</th>\n",
       "      <td>-29.798926</td>\n",
       "      <td>-48.298082</td>\n",
       "    </tr>\n",
       "    <tr>\n",
       "      <th>762</th>\n",
       "      <td>-69.324710</td>\n",
       "      <td>-44.631109</td>\n",
       "    </tr>\n",
       "    <tr>\n",
       "      <th>522</th>\n",
       "      <td>105.343051</td>\n",
       "      <td>38.307624</td>\n",
       "    </tr>\n",
       "  </tbody>\n",
       "</table>\n",
       "</div>"
      ],
      "text/plain": [
       "           input      output\n",
       "1110 -110.344221  123.087950\n",
       "791  -104.366669  -46.000000\n",
       "342   114.633331   94.000000\n",
       "141   -51.608942  -33.186863\n",
       "229     3.309414  -85.163601\n",
       "237    29.671494  -73.487912\n",
       "624    11.440266  -93.358732\n",
       "143   -29.798926  -48.298082\n",
       "762   -69.324710  -44.631109\n",
       "522   105.343051   38.307624"
      ]
     },
     "execution_count": 15,
     "metadata": {},
     "output_type": "execute_result"
    }
   ],
   "source": [
    "df.sample(10)"
   ]
  },
  {
   "cell_type": "markdown",
   "id": "a2fb7f86",
   "metadata": {},
   "source": []
  },
  {
   "cell_type": "code",
   "execution_count": 16,
   "id": "5151ce4c",
   "metadata": {},
   "outputs": [
    {
     "data": {
      "text/plain": [
       "<AxesSubplot:xlabel='input'>"
      ]
     },
     "execution_count": 16,
     "metadata": {},
     "output_type": "execute_result"
    },
    {
     "data": {
      "image/png": "[encoded data removed]",
      "text/plain": [
       "<Figure size 432x288 with 1 Axes>"
      ]
     },
     "metadata": {
      "needs_background": "light"
     },
     "output_type": "display_data"
    }
   ],
   "source": [
    "sns.boxplot(x=df[\"input\"])"
   ]
  },
  {
   "cell_type": "markdown",
   "id": "337cf199",
   "metadata": {},
   "source": [
    "As we can see all the points lie in the range of variance or between the end point of box plot, so we can say that our dataset does not contain outliers"
   ]
  },
  {
   "cell_type": "markdown",
   "id": "d25b1345",
   "metadata": {},
   "source": [
    "## Train Test Split"
   ]
  },
  {
   "cell_type": "code",
   "execution_count": 17,
   "id": "02c1d513",
   "metadata": {},
   "outputs": [],
   "source": [
    "X=df.drop('output',axis=1)\n",
    "Y=df['output']\n",
    "\n",
    "# Splitting the dataset into the Training data set and Testing data set\n",
    "from sklearn.model_selection import train_test_split\n",
    "\n",
    "# 30% data for testing, random state 1\n",
    "X_train, X_test, y_train, y_test = train_test_split(X, Y, train_size=.7, random_state=1)\n"
   ]
  },
  {
   "cell_type": "markdown",
   "id": "7a1e9da5",
   "metadata": {},
   "source": [
    "## Normalization "
   ]
  },
  {
   "cell_type": "code",
   "execution_count": 18,
   "id": "c9e0f6da",
   "metadata": {},
   "outputs": [
    {
     "name": "stderr",
     "output_type": "stream",
     "text": [
      "C:\\Users\\HP\\anaconda3\\lib\\site-packages\\seaborn\\distributions.py:2557: FutureWarning: `distplot` is a deprecated function and will be removed in a future version. Please adapt your code to use either `displot` (a figure-level function with similar flexibility) or `histplot` (an axes-level function for histograms).\n",
      "  warnings.warn(msg, FutureWarning)\n"
     ]
    },
    {
     "data": {
      "image/png": "[encoded data removed]",
      "text/plain": [
       "<Figure size 648x432 with 1 Axes>"
      ]
     },
     "metadata": {
      "needs_background": "light"
     },
     "output_type": "display_data"
    }
   ],
   "source": [
    "plt.figure(figsize=(9,6))\n",
    "sns.set()\n",
    "sns.distplot(df['input'],\n",
    "            color='red',axlabel=\"input\",\n",
    "             label=\"input value\",\n",
    "            hist_kws={'color':'b','edgecolor':'r'})\n",
    "plt.title(\"input Distribution\")\n",
    "plt.legend()\n",
    "plt.show()"
   ]
  },
  {
   "cell_type": "markdown",
   "id": "af811bf5",
   "metadata": {},
   "source": [
    "Here we can see that distribution is not Gaussian(bell shaped curve), so we will use the normalization technique.   Normalization often also simply called Min-Max scaling basically shrinks the range of the data such that the range is fixed between 0 and 1 (or -1 to 1 if there are negative values)."
   ]
  },
  {
   "cell_type": "markdown",
   "id": "a94a26c3",
   "metadata": {},
   "source": [
    "Mathematical expression of min max scaling is : Xi'= ( Xi - min(X) )/( max(X) - min(X) ), where Xi' is rescaled value, xi is a original value, min(X) is minimum value in feature and max(X) is maximum value in feature."
   ]
  },
  {
   "cell_type": "code",
   "execution_count": 19,
   "id": "353d5067",
   "metadata": {},
   "outputs": [],
   "source": [
    "from sklearn.preprocessing import MinMaxScaler\n",
    "scaler = MinMaxScaler()\n",
    "model=scaler.fit(X_train)\n",
    "scaled_data=model.transform(X_train)\n",
    "scaled_data=X_train"
   ]
  },
  {
   "cell_type": "markdown",
   "id": "c0edfca9",
   "metadata": {},
   "source": [
    "## Linear Regresssion"
   ]
  },
  {
   "cell_type": "code",
   "execution_count": 20,
   "id": "5315ca19",
   "metadata": {},
   "outputs": [],
   "source": [
    "from sklearn.linear_model import LinearRegression\n",
    "\n",
    "# initializing the algorithm\n",
    "regressor = LinearRegression()\n",
    "\n",
    "# Fitting Simple Linear Regression to the Training set\n",
    "regressor.fit(X_train, y_train)\n",
    "\n",
    "# Predicting the Test set results\n",
    "y_pred = regressor.predict(X_test)"
   ]
  },
  {
   "cell_type": "code",
   "execution_count": 21,
   "id": "73b193c8",
   "metadata": {},
   "outputs": [
    {
     "data": {
      "text/plain": [
       "array([  1.58407447, -39.48246325,  -8.2877526 , -66.72499999,\n",
       "       -31.20960181, -39.62306645, -90.29016177, -59.1696147 ,\n",
       "       -16.00069963, -22.6723058 , -44.24913561, -43.2169416 ,\n",
       "         5.34497474, -12.6221495 , -17.60442331, -77.89699519,\n",
       "        18.50445657, -44.21083249, -75.71534575, -18.47238651,\n",
       "         6.96656315, -33.8462523 , -27.00144705, -77.34744053,\n",
       "       -33.80266537, -84.0104014 , -73.14526904, -51.01626469,\n",
       "       -33.72064393, -77.19069331,  19.13280195, -23.07089298,\n",
       "       -71.66969016, -33.01120342, -15.63779587,  19.71196421,\n",
       "       -41.06767586,  19.1521788 , -29.44278397, -50.03382466,\n",
       "       -85.47119948, -19.80677397,  18.00984744, -41.64747614,\n",
       "       -88.0947055 ,  24.79654177, -26.33135951, -82.32810687,\n",
       "        15.53666365, -53.23948136,  19.13280195, -82.05405942,\n",
       "       -87.40279523, -64.85633669,   4.74824875, -87.3448373 ,\n",
       "        15.73547121, -86.50376065, -85.55513785,  10.73372105,\n",
       "       -39.39696476, -84.18741403, -73.61480697,  19.58231924,\n",
       "         5.76537977,  16.43569823,  21.82990568, -49.1103806 ,\n",
       "        -1.69200216,  -5.25190278,  12.69265765,  -3.0659328 ,\n",
       "        11.12755027, -44.8244827 , -42.08835599, -23.57134038,\n",
       "       -82.97144724, -44.82429533,   2.57662027, -70.07028072,\n",
       "       -48.35468348, -83.31037572, -90.05296193, -33.82863074,\n",
       "       -85.15520879,  20.00491426, -15.03051191, -43.84639861,\n",
       "       -42.28418394, -64.92693084, -44.44819199, -83.73062661,\n",
       "       -50.57546995,   6.96276509,  -6.48968344,   7.44535247,\n",
       "       -10.08582175, -90.32980479, -46.1519801 , -64.35059964,\n",
       "       -55.24390676, -91.44845082,  -7.4363152 ,  19.10297401,\n",
       "        -6.93920073, -59.80144358,  14.10684625, -26.68832335,\n",
       "       -83.31278721, -68.57100458, -71.68570947, -34.64229655,\n",
       "       -28.6960036 , -30.01018864,  26.04523359,   5.17437357,\n",
       "       -83.50861015,   9.17105448, -83.44572605, -14.07410214,\n",
       "       -13.23244276, -54.3754246 ,   6.75948187, -83.35713964,\n",
       "        22.53545979, -90.04984511, -43.35010103, -82.72622617,\n",
       "        13.24300864,   0.70259316, -72.95099942,  -4.46206258,\n",
       "       -83.15336455, -35.68335498, -75.59943694, -59.99115791,\n",
       "        -3.34306243, -76.97303246, -85.41290927,  15.94904838,\n",
       "       -19.0761675 , -46.2546562 , -40.04163892, -52.70998164,\n",
       "       -47.37180247,  12.64891583, -29.66336575,   2.67273571,\n",
       "       -27.0512158 , -16.78787618,  18.02846002,  15.91848422,\n",
       "        20.73359401,  26.73339331,   5.30667622, -31.9704666 ,\n",
       "         2.40040675, -42.31214262, -35.30115878,  19.1290163 ,\n",
       "       -22.82777656, -77.92986025, -40.65299731,   0.19907706,\n",
       "       -84.8251073 , -79.23619925, -32.65142936, -88.75134709,\n",
       "       -81.50827881, -18.16100907,   9.78993264, -27.33916208,\n",
       "        -4.24209701,  -7.92501252, -76.27626482,  22.70910445,\n",
       "       -24.02085766, -24.91989224, -90.54941624,   5.70611633,\n",
       "       -32.11216884,   1.60162773, -86.02583486, -46.54852638,\n",
       "       -82.39587245, -11.99417629,  22.0847417 , -82.44447565,\n",
       "        -5.5100126 ,   8.79390434, -19.86959037,  -7.02841642,\n",
       "        -8.78766669, -87.46438543, -90.54941624,  -5.59064887,\n",
       "         4.74824875, -86.73875633, -67.39257608, -13.62356603,\n",
       "       -37.46181591, -29.86722076,  -6.56072949, -57.7388779 ,\n",
       "        -8.8798201 , -14.13147734, -15.0317424 , -68.25500656,\n",
       "       -21.32375394, -32.11242362, -31.92344645, -75.45469028,\n",
       "       -44.24913561, -33.91630728, -18.15997819, -85.71228765,\n",
       "        15.17036874,  10.55258177, -53.04105568, -13.01492341,\n",
       "       -79.76100134, -17.32450593, -30.7025161 ,  25.39832216,\n",
       "        -2.89839418, -82.00858777,   2.43588645,   4.37673524,\n",
       "       -26.2684441 , -92.14536008, -21.42422058, -32.1155872 ,\n",
       "       -66.65103012,  10.88579843, -38.40541087,  -0.64595871,\n",
       "       -20.28363043, -44.89295987, -80.60333641, -47.95860346,\n",
       "       -39.30444545,   6.69833176,  -2.01170773,  13.15636221,\n",
       "       -11.81444994, -39.67197895, -53.2129836 , -60.88127525,\n",
       "       -74.27184712, -55.4870678 ,  -4.86451107, -21.77327123,\n",
       "        13.7385945 , -15.16209112, -62.2339429 , -91.8979681 ,\n",
       "        17.07034233, -74.588396  ,  20.19690615, -24.73620754,\n",
       "       -91.44845082,  11.05718778,  24.53046309, -74.96331471,\n",
       "         0.9112536 , -14.13147734, -81.1095532 ,  21.38038839,\n",
       "        25.25723167, -69.69315906, -86.63457364, -73.46775931,\n",
       "       -54.13851594,  16.56659038,  18.23376738,  19.13280195,\n",
       "       -17.72761564, -57.98095209,  20.48135382, -20.42471936,\n",
       "       -19.08965525, -35.71967901,  17.23598927,   1.60162773,\n",
       "       -69.87162101, -24.92778259, -42.00154917, -26.26862973,\n",
       "       -23.91860883,  17.49543532, -35.87551668,   2.96150274,\n",
       "       -73.00217483, -82.67675872, -20.87423665, -82.00858777,\n",
       "        21.12603874, -26.99897994, -25.81892682, -83.46910518,\n",
       "         2.88782096, -24.42223476,   6.61011028,  18.23376738,\n",
       "       -10.53533903, -38.40541087,   6.66601487, -51.94893277,\n",
       "        -1.31386864,   6.81956091,  20.58428019, -13.55360401,\n",
       "       -87.85231251,  27.16823503, -86.78990457,  21.36296663,\n",
       "       -82.90762235,  -1.57367179,  13.7385945 , -80.21051862,\n",
       "       -12.33340818, -58.53681097,  -3.51411825,   0.24538401,\n",
       "       -38.8852978 ,   7.00642287, -54.134514  ])"
      ]
     },
     "execution_count": 21,
     "metadata": {},
     "output_type": "execute_result"
    }
   ],
   "source": [
    "y_pred"
   ]
  },
  {
   "cell_type": "code",
   "execution_count": 22,
   "id": "9359505c",
   "metadata": {},
   "outputs": [
    {
     "data": {
      "text/plain": [
       "3358.9697428121294"
      ]
     },
     "execution_count": 22,
     "metadata": {},
     "output_type": "execute_result"
    }
   ],
   "source": [
    "from sklearn.metrics import mean_squared_error\n",
    "mse=mean_squared_error(y_test,y_pred)\n",
    "mse"
   ]
  },
  {
   "cell_type": "markdown",
   "id": "5a09fe4f",
   "metadata": {},
   "source": [
    "## Decision Tree Regressor"
   ]
  },
  {
   "cell_type": "code",
   "execution_count": 23,
   "id": "b618e9fa",
   "metadata": {},
   "outputs": [
    {
     "name": "stdout",
     "output_type": "stream",
     "text": [
      "[-10.73044582 -60.36664549 -60.36664549 -60.36664549 -60.36664549\n",
      " -60.36664549 -60.36664549 -60.36664549 -60.36664549 -60.36664549\n",
      " -60.36664549 -60.36664549  28.19401737 -60.36664549 -60.36664549\n",
      " -60.36664549  88.7721472  -60.36664549 -60.36664549 -60.36664549\n",
      "  28.19401737 -60.36664549 -60.36664549 -60.36664549 -60.36664549\n",
      " -60.36664549 -60.36664549 -60.36664549 -60.36664549 -60.36664549\n",
      "  88.7721472  -60.36664549 -60.36664549 -60.36664549 -60.36664549\n",
      "  88.7721472  -60.36664549  88.7721472  -60.36664549 -60.36664549\n",
      " -60.36664549 -60.36664549  88.7721472  -60.36664549 -60.36664549\n",
      "  88.7721472  -60.36664549 -60.36664549  88.7721472  -60.36664549\n",
      "  88.7721472  -60.36664549 -60.36664549 -60.36664549 -10.73044582\n",
      " -60.36664549  88.7721472  -60.36664549 -60.36664549  28.19401737\n",
      " -60.36664549 -60.36664549 -60.36664549  88.7721472   28.19401737\n",
      "  88.7721472   88.7721472  -60.36664549 -10.73044582 -60.36664549\n",
      "  88.7721472  -60.36664549  28.19401737 -60.36664549 -60.36664549\n",
      " -60.36664549 -60.36664549 -60.36664549 -10.73044582 -60.36664549\n",
      " -60.36664549 -60.36664549 -60.36664549 -60.36664549 -60.36664549\n",
      "  88.7721472  -60.36664549 -60.36664549 -60.36664549 -60.36664549\n",
      " -60.36664549 -60.36664549 -60.36664549  28.19401737 -60.36664549\n",
      "  28.19401737 -60.36664549 -60.36664549 -60.36664549 -60.36664549\n",
      " -60.36664549 -60.36664549 -60.36664549  88.7721472  -60.36664549\n",
      " -60.36664549  88.7721472  -60.36664549 -60.36664549 -60.36664549\n",
      " -60.36664549 -60.36664549 -60.36664549 -60.36664549  88.7721472\n",
      "  28.19401737 -60.36664549  28.19401737 -60.36664549 -60.36664549\n",
      " -60.36664549 -60.36664549  28.19401737 -60.36664549  88.7721472\n",
      " -60.36664549 -60.36664549 -60.36664549  88.7721472  -10.73044582\n",
      " -60.36664549 -60.36664549 -60.36664549 -60.36664549 -60.36664549\n",
      " -60.36664549 -60.36664549 -60.36664549 -60.36664549  88.7721472\n",
      " -60.36664549 -60.36664549 -60.36664549 -60.36664549 -60.36664549\n",
      "  88.7721472  -60.36664549 -10.73044582 -60.36664549 -60.36664549\n",
      "  88.7721472   88.7721472   88.7721472   88.7721472   28.19401737\n",
      " -60.36664549 -10.73044582 -60.36664549 -60.36664549  88.7721472\n",
      " -60.36664549 -60.36664549 -60.36664549 -10.73044582 -60.36664549\n",
      " -60.36664549 -60.36664549 -60.36664549 -60.36664549 -60.36664549\n",
      "  28.19401737 -60.36664549 -60.36664549 -60.36664549 -60.36664549\n",
      "  88.7721472  -60.36664549 -60.36664549 -60.36664549  28.19401737\n",
      " -60.36664549 -10.73044582 -60.36664549 -60.36664549 -60.36664549\n",
      " -60.36664549  88.7721472  -60.36664549 -60.36664549  28.19401737\n",
      " -60.36664549 -60.36664549 -60.36664549 -60.36664549 -60.36664549\n",
      " -60.36664549 -10.73044582 -60.36664549 -60.36664549 -60.36664549\n",
      " -60.36664549 -60.36664549 -60.36664549 -60.36664549 -60.36664549\n",
      " -60.36664549 -60.36664549 -60.36664549 -60.36664549 -60.36664549\n",
      " -60.36664549 -60.36664549 -60.36664549 -60.36664549 -60.36664549\n",
      " -60.36664549  88.7721472   28.19401737 -60.36664549 -60.36664549\n",
      " -60.36664549 -60.36664549 -60.36664549  88.7721472  -60.36664549\n",
      " -60.36664549 -10.73044582 -10.73044582 -60.36664549 -60.36664549\n",
      " -60.36664549 -60.36664549 -60.36664549  28.19401737 -60.36664549\n",
      " -10.73044582 -60.36664549 -60.36664549 -60.36664549 -60.36664549\n",
      " -60.36664549  28.19401737 -60.36664549  88.7721472  -60.36664549\n",
      " -60.36664549 -60.36664549 -60.36664549 -60.36664549 -60.36664549\n",
      " -60.36664549 -60.36664549  88.7721472  -60.36664549 -60.36664549\n",
      " -60.36664549  88.7721472  -60.36664549  88.7721472  -60.36664549\n",
      " -60.36664549  28.19401737  88.7721472  -60.36664549 -10.73044582\n",
      " -60.36664549 -60.36664549  88.7721472   88.7721472  -60.36664549\n",
      " -60.36664549 -60.36664549 -60.36664549  88.7721472   88.7721472\n",
      "  88.7721472  -60.36664549 -60.36664549  88.7721472  -60.36664549\n",
      " -60.36664549 -60.36664549  88.7721472  -10.73044582 -60.36664549\n",
      " -60.36664549 -60.36664549 -60.36664549 -60.36664549  88.7721472\n",
      " -60.36664549 -10.73044582 -60.36664549 -60.36664549 -60.36664549\n",
      " -60.36664549  88.7721472  -60.36664549 -60.36664549 -60.36664549\n",
      " -10.73044582 -60.36664549  28.19401737  88.7721472  -60.36664549\n",
      " -60.36664549  28.19401737 -60.36664549 -10.73044582  28.19401737\n",
      "  88.7721472  -60.36664549 -60.36664549  88.7721472  -60.36664549\n",
      "  88.7721472  -60.36664549 -10.73044582  88.7721472  -60.36664549\n",
      " -60.36664549 -60.36664549 -60.36664549 -10.73044582 -60.36664549\n",
      "  28.19401737 -60.36664549]\n"
     ]
    }
   ],
   "source": [
    "from sklearn.tree import DecisionTreeRegressor\n",
    "# Fit regression model\n",
    "regr = DecisionTreeRegressor(max_depth=2)\n",
    "regr.fit(X_train, y_train)\n",
    "# Predict\n",
    "y_pred = regr.predict(X_test)\n",
    "print(y_pred)"
   ]
  },
  {
   "cell_type": "code",
   "execution_count": 24,
   "id": "2da2cc33",
   "metadata": {},
   "outputs": [
    {
     "data": {
      "text/plain": [
       "1775.852340039755"
      ]
     },
     "execution_count": 24,
     "metadata": {},
     "output_type": "execute_result"
    }
   ],
   "source": [
    "from sklearn.metrics import mean_squared_error\n",
    "mse=mean_squared_error(y_test,y_pred)\n",
    "mse"
   ]
  },
  {
   "cell_type": "markdown",
   "id": "77a19e9e",
   "metadata": {},
   "source": [
    "## Support Vector Machine"
   ]
  },
  {
   "cell_type": "code",
   "execution_count": 25,
   "id": "2312f1a5",
   "metadata": {},
   "outputs": [
    {
     "name": "stdout",
     "output_type": "stream",
     "text": [
      "[ -9.91468028 -66.35833424 -48.70616929 -41.53167243 -77.63784663\n",
      " -66.12558357 -56.26726283 -41.47835565 -70.35264099 -79.33027823\n",
      " -58.34077044 -60.06961731   5.42464107 -62.22018107 -73.38788722\n",
      " -48.88574119  46.26807172 -58.40448377 -47.1583024  -74.80051667\n",
      "  11.76788181 -74.74948249 -80.13801276 -48.44989161 -74.80400262\n",
      " -53.35916475 -45.20047021 -48.25623112 -74.90603526 -48.32545343\n",
      "  47.43411534 -79.56366603 -44.16388079 -75.75688643 -69.59031998\n",
      "  48.43427608 -63.7052881   47.46873799 -79.03862691 -49.52358721\n",
      " -54.23115159 -76.65359692  45.29145399 -62.72464691 -55.51330696\n",
      "  54.10497399 -80.25357605 -52.23811387  39.65109507 -45.716236\n",
      "  47.43411534 -52.04527881 -55.21350933 -41.00279963   3.03815329\n",
      " -55.18710296  40.15000331 -54.78204807 -54.27804889  25.40164838\n",
      " -66.49955019 -53.47020774 -45.54628699  48.21663722   7.09042644\n",
      "  41.84485949  51.47571842 -50.78786561 -23.44269369 -37.60051922\n",
      "  31.69725587 -29.0119261   26.71621435 -57.38893663 -61.97782526\n",
      " -79.80962125 -52.68013695 -57.3892449   -5.8139233  -43.14955066\n",
      " -51.87082509 -52.90658922 -56.20075192 -74.77154907 -54.05136828\n",
      "  48.91274968 -68.25341    -59.01256607 -61.64611162 -41.01720289\n",
      " -58.01032197 -53.1808138  -48.81453507  11.75330233 -42.26255494\n",
      "  13.59413671 -54.69075182 -56.27801751 -55.23913231 -40.91306882\n",
      " -43.85418763 -56.53838906 -45.70754932  47.38066197 -43.91234955\n",
      " -41.25617303  35.8386988  -80.20244645 -52.90818381 -42.32959296\n",
      " -44.17466499 -73.71858195 -79.48332872 -78.64059466  54.65147527\n",
      "   4.74488424 -53.03686886  19.96433301 -52.99571847 -65.99502453\n",
      " -63.85663024 -44.60886389  10.97091394 -52.93746922  52.27302753\n",
      " -56.19985337 -59.84540064 -52.51347967  33.35117126 -13.56682431\n",
      " -45.05942207 -34.54392361 -52.80225608 -72.27758658 -47.06734138\n",
      " -41.198057   -30.12159266 -48.15266307 -54.19837037  40.67729754\n",
      " -75.68692453 -55.07608473 -65.42920181 -46.27760803 -53.33806468\n",
      "  31.56355595 -78.88993089  -5.41804439 -80.12610366 -71.91090433\n",
      "  45.32913613  40.60239216  50.02259614  54.81455607   5.27222519\n",
      " -76.89528569  -6.54038129 -61.59876138 -72.8180188   47.42734175\n",
      " -79.42528723 -48.91176722 -64.40433114 -15.65265641 -53.85821081\n",
      " -49.93857853 -76.1657344  -55.7708432  -51.6537987  -74.31247939\n",
      "  22.15837699 -80.04831069 -33.68260465 -47.44079962 -47.60045973\n",
      "  52.45271558 -79.98631255 -80.21608444 -56.33571371   6.85643663\n",
      " -76.74838997  -9.84200859 -54.53418614 -54.61234093 -52.28539185\n",
      " -60.4631022   51.77614669 -52.31919959 -38.5862348   18.60269238\n",
      " -76.73129248 -44.23683854 -50.41926402 -55.24135387 -56.33571371\n",
      " -38.89277853   3.03815329 -54.89928045 -41.79078614 -64.86765178\n",
      " -69.61291813 -78.74565583 -42.52492302 -42.14553033 -50.7310487\n",
      " -66.13570243 -68.25619577 -42.17539019 -78.29070304 -76.74812349\n",
      " -76.94344498 -46.95398618 -58.34077044 -74.66142361 -74.31082878\n",
      " -54.36486498  38.71166772  24.78918924 -45.92330151 -63.2815358\n",
      " -50.34468624 -72.89766605 -78.08769895  54.40905924 -28.33860706\n",
      " -52.01303356  -6.39404597   1.54060969 -80.2600961  -56.65802996\n",
      " -78.38156502 -76.74481386 -41.50513223  25.91205808 -68.11691227\n",
      " -19.1455576  -77.22195959 -57.27635666 -50.98521477 -52.4545006\n",
      " -66.65208141  10.73478435 -24.74747738  33.09428884 -59.9468506\n",
      " -66.04446937 -45.74365665 -40.97789798 -46.04054605 -43.65748258\n",
      " -36.10867581 -78.68039361  34.79477417 -68.54953837 -40.80604683\n",
      " -56.61932987  43.29569166 -46.28237787  49.21629964 -80.18238937\n",
      " -56.53838906  26.48308523  53.94615235 -46.57145015 -12.70208977\n",
      " -66.13570243 -51.36200875  50.91143151  54.34459607 -42.93031707\n",
      " -54.84768955 -45.43727145 -44.82869595  42.15077881  45.73996805\n",
      "  47.43411534 -73.59829248 -42.01658824  49.65139876 -77.38065915\n",
      " -75.70582165 -72.22557133  43.66083278  -9.84200859 -43.03303299\n",
      " -80.21738081 -62.12488719 -80.26007797 -79.94977464  44.22137344\n",
      " -72.00116832  -4.23040535 -45.09645618 -52.47958277 -77.85751958\n",
      " -52.01303356  50.57272108 -80.13859127 -80.28469505 -53.01103675\n",
      "  -4.53318282 -80.10910025  10.3934974   45.73996805 -56.1068351\n",
      " -68.11691227  10.60985053 -47.13299957 -21.89378965  11.20256005\n",
      "  49.80452835 -64.68899745 -55.41155284  54.86792579 -54.92438436\n",
      "  50.88867913 -52.6369834  -22.95861352  34.79477417 -50.68843738\n",
      " -61.42137779 -41.74528142 -30.80385586 -15.46091812 -67.33916162\n",
      "  11.92080403 -44.83246028]\n"
     ]
    }
   ],
   "source": [
    "from sklearn.svm import SVR\n",
    "# Fit regression model\n",
    "svr = SVR().fit(X_train, y_train)\n",
    "# Predict\n",
    "y_pred=svr.predict(X_test)\n",
    "print(y_pred)"
   ]
  },
  {
   "cell_type": "code",
   "execution_count": 26,
   "id": "3b4c5a3c",
   "metadata": {},
   "outputs": [
    {
     "data": {
      "text/plain": [
       "1737.5760229202351"
      ]
     },
     "execution_count": 26,
     "metadata": {},
     "output_type": "execute_result"
    }
   ],
   "source": [
    "from sklearn.metrics import mean_squared_error\n",
    "mse=mean_squared_error(y_test,y_pred)\n",
    "mse"
   ]
  },
  {
   "cell_type": "markdown",
   "id": "a466585f",
   "metadata": {},
   "source": [
    "## Lasso Regression"
   ]
  },
  {
   "cell_type": "code",
   "execution_count": 27,
   "id": "d0a84467",
   "metadata": {},
   "outputs": [
    {
     "name": "stdout",
     "output_type": "stream",
     "text": [
      "[  1.58304265 -39.48198779  -8.28842209 -66.72352464 -31.20942999\n",
      " -39.62258583 -90.2878215  -59.16841666 -16.00108603 -22.67244733\n",
      " -44.24848519 -43.21632907   5.34380488 -12.6226599  -17.60475084\n",
      " -77.89510979  18.50280372 -44.21018348 -75.71354041 -18.47268219\n",
      "   6.96533378 -33.84598371 -27.00142968 -77.34557529 -33.80239837\n",
      " -84.00829161 -73.14355804 -51.0153659  -33.72037994 -77.18883383\n",
      "  19.13112604 -23.07101988 -71.66803331 -33.01096547 -15.63819559\n",
      "  19.71026703 -41.06714222  19.15050217 -29.442677   -50.03296193\n",
      " -85.46903608 -19.80702067  18.00821274 -41.64692121 -88.0924458\n",
      "  24.79465797 -26.33136674 -82.32605882  15.53511972 -53.23850097\n",
      "  19.13112604 -82.05202143 -87.40056093 -64.85492992   4.74710079\n",
      " -87.34260513  15.73391999 -86.50155935 -85.55297136  10.73235341\n",
      " -39.39649243 -84.18529774 -73.61307874  19.58062682   5.76419448\n",
      "  16.4341213   21.82813077 -49.10955176  -1.69291374  -5.2526837\n",
      "  12.69121811  -3.06679395  11.12616817 -44.82381117 -42.08778489\n",
      " -23.57144891 -82.96937559 -44.8236238    2.57555202 -70.06868258\n",
      " -48.35388238 -83.30829163 -90.05063036 -33.8283628  -85.15305698\n",
      "  20.00320634 -15.03093392 -43.84576298 -42.28360565 -64.92552148\n",
      " -44.44753427 -83.72852708 -50.57458734   6.96153585  -6.49041893\n",
      "   7.44410552 -10.08642524 -90.32746306 -46.15125984 -64.34921143\n",
      " -55.2428528  -91.44606802  -7.43701594  19.10129919  -6.93991972\n",
      " -59.80022234  14.10535481 -26.68831748 -83.31070302 -68.56946147\n",
      " -71.68405204 -34.64199874 -28.69592403 -30.01006084  26.04330396\n",
      "   5.17320997 -83.50651878   9.16974419 -83.44363699 -14.07455925\n",
      " -13.23293076 -54.37440251   6.75826009 -83.35505383  22.53365898\n",
      " -90.04751366 -43.34948362 -82.72416351  13.24154889   0.70159369\n",
      " -72.94929555  -4.46287248 -83.15128622 -35.68301896 -75.59763586\n",
      " -59.98992971  -3.34391341 -76.97118096 -85.41074801  15.94748932\n",
      " -19.07644102 -46.25393218 -40.04114294 -52.70902068 -47.37103744\n",
      "  12.64747789 -29.66325068   2.67166394 -27.0511966  -16.78823368\n",
      "  18.02682464  15.91692628  20.73185934  26.73143843   5.30550777\n",
      " -31.97026685   2.39934497 -42.3115633  -35.30083678  19.12734052\n",
      " -22.82791238 -77.92797364 -40.65247888   0.19809607 -84.8229676\n",
      " -79.23426469 -32.65120462 -88.74906329 -81.50626086 -18.16131618\n",
      "   9.78859963 -27.33913232  -4.24291499  -7.92569532 -76.2744389\n",
      "  22.70729727 -24.0209497  -24.91995127 -90.54706645   5.70493322\n",
      " -32.1119639    1.60059527 -86.0236511  -46.54779156 -82.39382192\n",
      " -11.99470974  22.08295744 -82.44242334  -5.51078404   8.79260789\n",
      " -19.86983476  -7.02913213  -8.78831783 -87.46214887 -90.54706645\n",
      "  -5.59141735   4.74710079 -86.7365464  -67.39107622 -13.62403968\n",
      " -37.46141461 -29.86709821  -6.56146237 -57.73773236  -8.88046785\n",
      " -14.13193234 -15.03216436 -68.25347505 -21.32394496 -32.11221866\n",
      " -31.92324843 -75.45289452 -44.24848519 -33.91603612 -18.16028534\n",
      " -85.7101154   15.16883825  10.55122077 -53.04008257 -13.01541939\n",
      " -79.75904751 -17.32484374 -30.70236289  25.39641628  -2.89926147\n",
      " -82.00655146   2.43482337   4.37560092 -26.26845364 -92.14295171\n",
      " -21.42440791 -32.11538213 -66.64955748  10.8844252  -38.40497494\n",
      "  -0.64690867 -20.28385963 -44.89228583 -80.60135167 -47.95781689\n",
      " -39.30397652   6.69711223  -2.01260757  13.15490565 -11.81498999\n",
      " -39.67149653 -53.21200419 -60.88001438 -74.27009477 -55.48600492\n",
      "  -4.86530621 -21.77344575  13.73711657 -15.1625083  -62.23263238\n",
      " -91.89556881  17.06874211 -74.58663203  20.19519118 -24.73627332\n",
      " -91.44606802  11.05580827  24.52858906 -74.96153698   0.91024647\n",
      " -14.13193234 -81.10754988  21.37862998  25.25533097 -69.69157476\n",
      " -86.63236754 -73.46603647 -54.13750255  16.56500865  18.23212446\n",
      "  19.13112604 -17.72793865 -57.97979767  20.4796284  -20.42494338\n",
      " -19.08992827 -35.71934166  17.23438297   1.60059527 -69.87003016\n",
      " -24.92784133 -42.00098125 -26.26863926 -23.91870461  17.4938195\n",
      " -35.87517361   2.96042037 -73.00046908 -82.67469788 -20.87444417\n",
      " -82.00655146  21.12428967 -26.99896266 -25.81895285 -83.46701526\n",
      "   2.88674129 -24.42231206   6.60889399  18.23212446 -10.53592603\n",
      " -38.40497494   6.66479653 -51.94799974  -1.3147941    6.81833693\n",
      "  20.582551   -13.55408022 -87.85006171  27.16626419 -86.78769276\n",
      "  21.36120886 -82.90555304  -1.57458771  13.73711657 -80.2085483\n",
      " -12.33392919 -58.53563615  -3.51496295   0.24440132 -38.88484426\n",
      "   7.00519203 -54.13350076]\n"
     ]
    }
   ],
   "source": [
    "from sklearn import linear_model\n",
    "# Fit regression model\n",
    "lassoReg = linear_model.Lasso(alpha=0.1)\n",
    "lassoReg.fit(X_train,y_train)\n",
    "# Predict\n",
    "y_pred=lassoReg.predict(X_test)\n",
    "print(y_pred)"
   ]
  },
  {
   "cell_type": "code",
   "execution_count": 28,
   "id": "2bc449c3",
   "metadata": {},
   "outputs": [
    {
     "data": {
      "text/plain": [
       "3358.9616610483104"
      ]
     },
     "execution_count": 28,
     "metadata": {},
     "output_type": "execute_result"
    }
   ],
   "source": [
    "from sklearn.metrics import mean_squared_error\n",
    "mse=mean_squared_error(y_test,y_pred)\n",
    "mse"
   ]
  },
  {
   "cell_type": "code",
   "execution_count": null,
   "id": "312669cb",
   "metadata": {},
   "outputs": [],
   "source": []
  }
 ],
 "metadata": {
  "kernelspec": {
   "display_name": "Python 3",
   "language": "python",
   "name": "python3"
  },
  "language_info": {
   "codemirror_mode": {
    "name": "ipython",
    "version": 3
   },
   "file_extension": ".py",
   "mimetype": "text/x-python",
   "name": "python",
   "nbconvert_exporter": "python",
   "pygments_lexer": "ipython3",
   "version": "3.8.8"
  }
 },
 "nbformat": 4,
 "nbformat_minor": 5
}
